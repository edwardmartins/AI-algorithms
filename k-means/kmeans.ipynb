{
 "cells": [
  {
   "cell_type": "code",
   "execution_count": 8,
   "metadata": {},
   "outputs": [],
   "source": [
    "# Apredizaje no supervisado, formacion de grupos de datos numericos no etiquetados\n",
    "# 1) Seleccionamos el numero de clusters (k)\n",
    "# 2) Seleccionamos al azar K puntos (centroides)\n",
    "# 3) Medimos la distancia entre cada uno de los puntos y los centroides\n",
    "# 4) Asignamos a cada punto al centroide que se encuentre mas cerca (cluster)\n",
    "# 5) Para cada cluster sacamos un nuevo centroide (media de todos los puntos pertenecientes al cluster)\n",
    "# 6) Volvemos al paso 3 hasta convergencia (ningun punto cambie de cluster)"
   ]
  },
  {
   "cell_type": "markdown",
   "metadata": {},
   "source": [
    "#### Importamos librerias"
   ]
  },
  {
   "cell_type": "code",
   "execution_count": 9,
   "metadata": {},
   "outputs": [],
   "source": [
    "import pandas as pd\n",
    "import numpy as np\n",
    "import matplotlib.pyplot as plt\n",
    "from sklearn.metrics import pairwise_distances_argmin"
   ]
  },
  {
   "cell_type": "markdown",
   "metadata": {},
   "source": [
    "#### Leemos datos para entrenar el modelo"
   ]
  },
  {
   "cell_type": "code",
   "execution_count": 10,
   "metadata": {},
   "outputs": [],
   "source": [
    "df = pd.read_csv('Iris_data.txt', sep=',', header=None)\n",
    "iris_data = df.iloc[:,:-1].to_numpy() "
   ]
  },
  {
   "cell_type": "code",
   "execution_count": 11,
   "metadata": {},
   "outputs": [
    {
     "data": {
      "text/plain": [
       "array([[5.1, 3.5, 1.4, 0.2],\n",
       "       [4.9, 3. , 1.4, 0.2],\n",
       "       [4.7, 3.2, 1.3, 0.2],\n",
       "       [4.6, 3.1, 1.5, 0.2],\n",
       "       [5. , 3.6, 1.4, 0.2],\n",
       "       [5.4, 3.9, 1.7, 0.4],\n",
       "       [4.6, 3.4, 1.4, 0.3],\n",
       "       [5. , 3.4, 1.5, 0.2],\n",
       "       [4.4, 2.9, 1.4, 0.2],\n",
       "       [4.9, 3.1, 1.5, 0.1]])"
      ]
     },
     "execution_count": 11,
     "metadata": {},
     "output_type": "execute_result"
    }
   ],
   "source": [
    "iris_data[:10] "
   ]
  },
  {
   "cell_type": "markdown",
   "metadata": {},
   "source": [
    "#### Implementamos el algoritmo k-means"
   ]
  },
  {
   "cell_type": "code",
   "execution_count": 12,
   "metadata": {},
   "outputs": [],
   "source": [
    "def k_means(data, n_clusters):\n",
    "    # 1) Elegimos centroides al azar\n",
    "    centroids = data[np.random.choice(np.arange(len(data)), n_clusters), :] \n",
    "\n",
    "    while True:\n",
    "        # 2) Les asignamos una etiqueta segun lo cerca que esten de cada centroide\n",
    "        labels = pairwise_distances_argmin(data, centroids)\n",
    "        \n",
    "        # 3) Sacamos los nuevos centroides de la media de los puntos pertenecientes a cada clase\n",
    "        new_centroids = np.array([data[labels == i].mean(axis=0)\n",
    "                                for i in range(n_clusters)])\n",
    "        \n",
    "        # 4) Comprobamos si hay convergencia\n",
    "        if np.all(centroids == new_centroids):\n",
    "            break\n",
    "        centroids = new_centroids\n",
    "    \n",
    "    return centroids, labels"
   ]
  },
  {
   "cell_type": "markdown",
   "metadata": {},
   "source": [
    "#### Aplicamos el algoritmo K-medias para obtener el modelo y mostramos el grafico"
   ]
  },
  {
   "cell_type": "code",
   "execution_count": 13,
   "metadata": {},
   "outputs": [],
   "source": [
    "centroids, labels = k_means(iris_data, 2)"
   ]
  },
  {
   "cell_type": "markdown",
   "metadata": {},
   "source": [
    "#### Mostramos el grafico del modelo"
   ]
  },
  {
   "cell_type": "code",
   "execution_count": 14,
   "metadata": {},
   "outputs": [
    {
     "data": {
      "image/png": "[encoded data removed]",
      "text/plain": [
       "<Figure size 432x288 with 1 Axes>"
      ]
     },
     "metadata": {
      "needs_background": "light"
     },
     "output_type": "display_data"
    }
   ],
   "source": [
    "plot = plt.scatter(iris_data[:, 0], iris_data[:, 1], c=labels, s=50, cmap='viridis')\n",
    "centroids_x = centroids[:,0]\n",
    "centroids_y = centroids[:,1]\n",
    "plt.scatter(centroids_x,centroids_y,marker = \"x\", s=150, linewidths = 5, zorder = 10, c='red')\n",
    "plt.legend(handles=plot.legend_elements()[0], labels= ['Class 1', 'Class 2'])\n",
    "plt.show()"
   ]
  },
  {
   "cell_type": "markdown",
   "metadata": {},
   "source": [
    "Como se puede comprobar las muestras se han agrupado en dos clases con sus respectivos centroides marcados con una \"X\""
   ]
  },
  {
   "cell_type": "markdown",
   "metadata": {},
   "source": [
    "#### Centroides del modelo"
   ]
  },
  {
   "cell_type": "markdown",
   "metadata": {},
   "source": [
    "Los centroides del modelo nos ayudaran a decidir a que clase pertenecen las nuevas muestras, por lo que agrupamos cada centro con su tipo de flor correspondiente, al centroide con eje de coordenadas \"X\" menor que 5,5 le asignamos el tipo de flor Setosa y al otro Versicolor"
   ]
  },
  {
   "cell_type": "code",
   "execution_count": 15,
   "metadata": {},
   "outputs": [],
   "source": [
    "clases = {}\n",
    "if centroids[0][0] < 5.5 :\n",
    "    clases['Setosa'] = centroids[0]\n",
    "    clases['Versicolor'] = centroids[1]\n",
    "else:\n",
    "    clases['Versicolor'] = centroids[0]\n",
    "    clases['Setosa'] = centroids[1]\n",
    "    "
   ]
  },
  {
   "cell_type": "code",
   "execution_count": 16,
   "metadata": {},
   "outputs": [
    {
     "data": {
      "text/plain": [
       "{'Setosa': array([5.006, 3.418, 1.464, 0.244]),\n",
       " 'Versicolor': array([5.936, 2.77 , 4.26 , 1.326])}"
      ]
     },
     "execution_count": 16,
     "metadata": {},
     "output_type": "execute_result"
    }
   ],
   "source": [
    "clases"
   ]
  },
  {
   "cell_type": "markdown",
   "metadata": {},
   "source": [
    "#### Leemos los datos del fichero de test"
   ]
  },
  {
   "cell_type": "code",
   "execution_count": 17,
   "metadata": {},
   "outputs": [
    {
     "data": {
      "text/html": [
       "<div>\n",
       "<style scoped>\n",
       "    .dataframe tbody tr th:only-of-type {\n",
       "        vertical-align: middle;\n",
       "    }\n",
       "\n",
       "    .dataframe tbody tr th {\n",
       "        vertical-align: top;\n",
       "    }\n",
       "\n",
       "    .dataframe thead th {\n",
       "        text-align: right;\n",
       "    }\n",
       "</style>\n",
       "<table border=\"1\" class=\"dataframe\">\n",
       "  <thead>\n",
       "    <tr style=\"text-align: right;\">\n",
       "      <th></th>\n",
       "      <th>0</th>\n",
       "      <th>1</th>\n",
       "      <th>2</th>\n",
       "      <th>3</th>\n",
       "      <th>4</th>\n",
       "    </tr>\n",
       "  </thead>\n",
       "  <tbody>\n",
       "    <tr>\n",
       "      <th>0</th>\n",
       "      <td>5.1</td>\n",
       "      <td>3.5</td>\n",
       "      <td>1.4</td>\n",
       "      <td>0.2</td>\n",
       "      <td>Iris-setosa</td>\n",
       "    </tr>\n",
       "    <tr>\n",
       "      <th>1</th>\n",
       "      <td>6.9</td>\n",
       "      <td>3.1</td>\n",
       "      <td>4.9</td>\n",
       "      <td>1.5</td>\n",
       "      <td>Iris-versicolor</td>\n",
       "    </tr>\n",
       "    <tr>\n",
       "      <th>2</th>\n",
       "      <td>5.0</td>\n",
       "      <td>3.4</td>\n",
       "      <td>1.5</td>\n",
       "      <td>0.2</td>\n",
       "      <td>Iris-setosa</td>\n",
       "    </tr>\n",
       "  </tbody>\n",
       "</table>\n",
       "</div>"
      ],
      "text/plain": [
       "     0    1    2    3                4\n",
       "0  5.1  3.5  1.4  0.2      Iris-setosa\n",
       "1  6.9  3.1  4.9  1.5  Iris-versicolor\n",
       "2  5.0  3.4  1.5  0.2      Iris-setosa"
      ]
     },
     "execution_count": 17,
     "metadata": {},
     "output_type": "execute_result"
    }
   ],
   "source": [
    "df = pd.read_csv('Iris_test.txt', sep=',', header=None)\n",
    "iris_test = df.iloc[:,:-1].to_numpy() \n",
    "df"
   ]
  },
  {
   "cell_type": "markdown",
   "metadata": {},
   "source": [
    "#### Creamos funcion de clasificacion"
   ]
  },
  {
   "cell_type": "markdown",
   "metadata": {},
   "source": [
    "Teniendo en cuenta la distancia a los centroides del modelo, un ejemplo sera de la clase Setosa o de la clase Versicolor"
   ]
  },
  {
   "cell_type": "code",
   "execution_count": 18,
   "metadata": {},
   "outputs": [],
   "source": [
    "def classifier(example):\n",
    "    # distancia euclidia de cada ejemplo a cada uno de los centroides\n",
    "    dist1 = np.linalg.norm(example - clases['Setosa'])\n",
    "    dist2 = np.linalg.norm(example - clases['Versicolor'])\n",
    "    if dist1 < dist2:\n",
    "        return 'Setosa'\n",
    "    else:\n",
    "        return 'Versicolor'\n",
    "    "
   ]
  },
  {
   "cell_type": "markdown",
   "metadata": {},
   "source": [
    "#### Clasificamos los 3 ejemplos"
   ]
  },
  {
   "cell_type": "markdown",
   "metadata": {},
   "source": [
    "Las predicciones coinciden con las etiquetas de los datos"
   ]
  },
  {
   "cell_type": "code",
   "execution_count": 19,
   "metadata": {},
   "outputs": [
    {
     "name": "stdout",
     "output_type": "stream",
     "text": [
      "[[5.1 3.5 1.4 0.2]] --> Setosa\n",
      "[[6.9 3.1 4.9 1.5]] --> Versicolor\n",
      "[[5.  3.4 1.5 0.2]] --> Setosa\n"
     ]
    }
   ],
   "source": [
    "print(str(iris_test[:1]) + ' --> ' + classifier(iris_test[:1])) # clasificamos fila 1\n",
    "print(str(iris_test[1:2]) + ' --> ' + classifier(iris_test[:2])) # clasificamos fila 2\n",
    "print(str(iris_test[2:3]) + ' --> ' + classifier(iris_test[:3])) # clasificamos fila 3"
   ]
  }
 ],
 "metadata": {
  "kernelspec": {
   "display_name": "Python 3",
   "language": "python",
   "name": "python3"
  },
  "language_info": {
   "codemirror_mode": {
    "name": "ipython",
    "version": 3
   },
   "file_extension": ".py",
   "mimetype": "text/x-python",
   "name": "python",
   "nbconvert_exporter": "python",
   "pygments_lexer": "ipython3",
   "version": "3.7.6"
  }
 },
 "nbformat": 4,
 "nbformat_minor": 4
}
